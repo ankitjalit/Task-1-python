{
 "cells": [
  {
   "cell_type": "markdown",
   "id": "745cd6b3-9604-48b4-a8f6-ba656d3f379d",
   "metadata": {},
   "source": [
    " # 1. Capitalize\r\n",
    "its makes first letter upprecase "
   ]
  },
  {
   "cell_type": "code",
   "execution_count": 1,
   "id": "b9b599b5-3020-4eca-b54d-e19006532536",
   "metadata": {},
   "outputs": [],
   "source": [
    "txt = \"pyhton is awesome\"\n"
   ]
  },
  {
   "cell_type": "code",
   "execution_count": 3,
   "id": "ccdbf45f-4ee3-49cb-a8f3-5362bc78a414",
   "metadata": {},
   "outputs": [
    {
     "data": {
      "text/plain": [
       "'Pyhton is awesome'"
      ]
     },
     "execution_count": 3,
     "metadata": {},
     "output_type": "execute_result"
    }
   ],
   "source": [
    "txt.capitalize()"
   ]
  },
  {
   "cell_type": "markdown",
   "id": "a3091791-73fd-4c4d-98cd-bbe80bfa555e",
   "metadata": {},
   "source": [
    "# 2. Upper\n",
    "it makes all letter uppercase"
   ]
  },
  {
   "cell_type": "code",
   "execution_count": 8,
   "id": "2ebd1855-db99-47f4-abc5-79a9031ca599",
   "metadata": {},
   "outputs": [],
   "source": [
    "txt = \"pyhton is awesome\""
   ]
  },
  {
   "cell_type": "code",
   "execution_count": 10,
   "id": "81e39d0d-758f-41bd-b535-ececf162b1e8",
   "metadata": {},
   "outputs": [
    {
     "data": {
      "text/plain": [
       "'PYHTON IS AWESOME'"
      ]
     },
     "execution_count": 10,
     "metadata": {},
     "output_type": "execute_result"
    }
   ],
   "source": [
    "txt.upper()"
   ]
  },
  {
   "cell_type": "markdown",
   "id": "e974955e-0bb3-450a-853c-4ef6f06770ef",
   "metadata": {},
   "source": [
    "# 3) lowercase"
   ]
  },
  {
   "cell_type": "code",
   "execution_count": 16,
   "id": "b2f9dbb0-3463-4865-a62b-c4ca2f0050c5",
   "metadata": {},
   "outputs": [],
   "source": [
    "txt = \"pyhton is awesome\""
   ]
  },
  {
   "cell_type": "code",
   "execution_count": 22,
   "id": "c1d4d19a-ec95-4913-8cfa-c1d68bab74fc",
   "metadata": {},
   "outputs": [
    {
     "data": {
      "text/plain": [
       "'pyhton is awesome'"
      ]
     },
     "execution_count": 22,
     "metadata": {},
     "output_type": "execute_result"
    }
   ],
   "source": [
    "txt.lower()"
   ]
  },
  {
   "cell_type": "markdown",
   "id": "f9a0bc8b-4975-4c19-b20f-139a9e643bb7",
   "metadata": {},
   "source": [
    "# 4) str.strip()\n",
    "Removes leading and trailing whitespace characters (or other specified characters) from the string.\n"
   ]
  },
  {
   "cell_type": "code",
   "execution_count": 30,
   "id": "80c0c8c5-090d-4527-a463-535eb69077ed",
   "metadata": {},
   "outputs": [],
   "source": [
    "string = \"hello world\""
   ]
  },
  {
   "cell_type": "code",
   "execution_count": 32,
   "id": "d9e4fd1d-474c-4e4b-9497-edaba72b1f2f",
   "metadata": {},
   "outputs": [
    {
     "name": "stdout",
     "output_type": "stream",
     "text": [
      "hello world\n"
     ]
    }
   ],
   "source": [
    "print(string.strip())"
   ]
  },
  {
   "cell_type": "markdown",
   "id": "5a4b3762-89cf-42e8-9198-2e042dcfa481",
   "metadata": {},
   "source": [
    "# 5) split()\n",
    "Splits the string into a list where each word is a list item."
   ]
  },
  {
   "cell_type": "code",
   "execution_count": 41,
   "id": "829e5aba-bbbf-45e0-a996-baca64ada7f3",
   "metadata": {},
   "outputs": [],
   "source": [
    "string = \"hello world\""
   ]
  },
  {
   "cell_type": "code",
   "execution_count": 39,
   "id": "aa583e5f-a318-4499-9c54-2b0c99d370df",
   "metadata": {},
   "outputs": [
    {
     "name": "stdout",
     "output_type": "stream",
     "text": [
      "['hello', 'world']\n"
     ]
    }
   ],
   "source": [
    "print(string.split())"
   ]
  },
  {
   "cell_type": "markdown",
   "id": "c92f0622-1dcb-498a-b680-f14efcf7adac",
   "metadata": {},
   "source": [
    "# 6) join()\n",
    "Joins elements of a list into a string, separated by a specified separator."
   ]
  },
  {
   "cell_type": "code",
   "execution_count": 74,
   "id": "a649a9a3-a8e0-4a39-94f6-330aae12996a",
   "metadata": {},
   "outputs": [],
   "source": [
    "words = ['hello', 'world']\n"
   ]
  },
  {
   "cell_type": "code",
   "execution_count": 78,
   "id": "9142993f-bf7a-47ba-8a0e-8b7151524f1f",
   "metadata": {},
   "outputs": [
    {
     "name": "stdout",
     "output_type": "stream",
     "text": [
      "hello world\n"
     ]
    }
   ],
   "source": [
    "print(\" \".join(words))  # Output: \"hello world\"\n",
    "\n"
   ]
  },
  {
   "cell_type": "markdown",
   "id": "fb00512c-bf2a-42a1-bf58-547eb6e91050",
   "metadata": {},
   "source": [
    "# 7) replace \n",
    "Replaces a specified phrase with another specified phrase"
   ]
  },
  {
   "cell_type": "code",
   "execution_count": 91,
   "id": "e3f0291e-f082-4cb4-8709-155a2440f4f3",
   "metadata": {},
   "outputs": [],
   "source": [
    "string = \"Hello, World!\"\n"
   ]
  },
  {
   "cell_type": "code",
   "execution_count": 93,
   "id": "826573c2-ca65-463c-b7b5-18c7f11a1399",
   "metadata": {},
   "outputs": [
    {
     "name": "stdout",
     "output_type": "stream",
     "text": [
      "Hello, Python!\n"
     ]
    }
   ],
   "source": [
    "print(string.replace(\"World\", \"Python\"))  # Output: \"Hello, Python!\"\n"
   ]
  },
  {
   "cell_type": "markdown",
   "id": "261a2f97-d830-4264-96b2-58ea0f9aa03e",
   "metadata": {},
   "source": [
    "# 8)  string.find()"
   ]
  },
  {
   "cell_type": "code",
   "execution_count": 98,
   "id": "226ee825-5a83-4c22-892b-40b3b728a409",
   "metadata": {},
   "outputs": [],
   "source": [
    "string = \"Hello, World!\""
   ]
  },
  {
   "cell_type": "code",
   "execution_count": 100,
   "id": "0f5465a6-c03b-406b-8e44-75e1513e0ffa",
   "metadata": {},
   "outputs": [
    {
     "name": "stdout",
     "output_type": "stream",
     "text": [
      "-1\n"
     ]
    }
   ],
   "source": [
    "print(string.find(\"world\"))"
   ]
  },
  {
   "cell_type": "markdown",
   "id": "ef9b442f-2211-47bc-8747-a75797d60456",
   "metadata": {},
   "source": [
    "# 9) startswith()\n",
    "Checks if the string starts with a specified substring"
   ]
  },
  {
   "cell_type": "code",
   "execution_count": 107,
   "id": "24049b76-0e5d-4cbe-8e4c-0938ad56197f",
   "metadata": {},
   "outputs": [],
   "source": [
    "string = \"Hello, World!\"\n"
   ]
  },
  {
   "cell_type": "code",
   "execution_count": 109,
   "id": "5c3c28ab-3d12-4247-8105-4bcb9e7630f3",
   "metadata": {},
   "outputs": [
    {
     "name": "stdout",
     "output_type": "stream",
     "text": [
      "True\n"
     ]
    }
   ],
   "source": [
    "print(string.startswith(\"Hello\"))  # Output: True\n"
   ]
  },
  {
   "cell_type": "markdown",
   "id": "5bdceedf-73c6-4fe9-a745-ce4b7d29820b",
   "metadata": {},
   "source": [
    "# 10) endswith\n",
    "Checks if the string ends with a specified substring."
   ]
  },
  {
   "cell_type": "code",
   "execution_count": 114,
   "id": "ece013a9-a7fa-4507-9955-041389b007a4",
   "metadata": {},
   "outputs": [],
   "source": [
    "string = \"Hello, World!\""
   ]
  },
  {
   "cell_type": "code",
   "execution_count": 128,
   "id": "7b621fe9-eaed-4d0a-8ce4-03fb04fc9b8a",
   "metadata": {},
   "outputs": [
    {
     "name": "stdout",
     "output_type": "stream",
     "text": [
      "True\n"
     ]
    }
   ],
   "source": [
    "print(string.endswith(\"World!\"))  # Output: True\n"
   ]
  },
  {
   "cell_type": "markdown",
   "id": "cefd6fdc-563e-4a8c-a397-fe937ab8c0c7",
   "metadata": {},
   "source": [
    "# 11. str.isdigit()\n",
    "Returns True if all characters in the string are digits"
   ]
  },
  {
   "cell_type": "code",
   "execution_count": 131,
   "id": "92d9a0a1-04d4-45cd-9128-df455910f12a",
   "metadata": {},
   "outputs": [],
   "source": [
    "string = \"12345\"\n"
   ]
  },
  {
   "cell_type": "code",
   "execution_count": 133,
   "id": "93d59539-b8b9-4424-8bc4-b029c429032f",
   "metadata": {},
   "outputs": [
    {
     "name": "stdout",
     "output_type": "stream",
     "text": [
      "True\n"
     ]
    }
   ],
   "source": [
    "print(string.isdigit())  # Output: True\n"
   ]
  },
  {
   "cell_type": "code",
   "execution_count": null,
   "id": "cbe5e68f-161c-48c3-b1c2-99634d46055c",
   "metadata": {},
   "outputs": [],
   "source": []
  }
 ],
 "metadata": {
  "kernelspec": {
   "display_name": "Python 3 (ipykernel)",
   "language": "python",
   "name": "python3"
  },
  "language_info": {
   "codemirror_mode": {
    "name": "ipython",
    "version": 3
   },
   "file_extension": ".py",
   "mimetype": "text/x-python",
   "name": "python",
   "nbconvert_exporter": "python",
   "pygments_lexer": "ipython3",
   "version": "3.12.4"
  }
 },
 "nbformat": 4,
 "nbformat_minor": 5
}
